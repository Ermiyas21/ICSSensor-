{
 "cells": [
  {
   "cell_type": "code",
   "execution_count": 1,
   "metadata": {
    "id": "7Np6RCC8nbAJ"
   },
   "outputs": [],
   "source": [
    "import numpy as np\n",
    "import pandas as pd\n",
    "import tensorflow as tf\n",
    "import matplotlib.pyplot as plt\n",
    "from sklearn.metrics import accuracy_score\n",
    "from tensorflow.keras.optimizers import Adam\n",
    "from sklearn.preprocessing import MinMaxScaler\n",
    "from tensorflow.keras import Model, Sequential\n",
    "from tensorflow.keras.layers import Dense, Dropout\n",
    "from sklearn.model_selection import train_test_split\n",
    "from tensorflow.keras.losses import MeanSquaredLogarithmicError\n",
    "\n",
    "# source : https://www.analyticsvidhya.com/blog/2021/05/anomaly-detection-using-autoencoders-a-walk-through-in-python/ \n",
    "# https://colab.research.google.com/drive/1TXaQzsSj2q0E3Ni1uxFDXGpY1SCnu46v?usp=sharing#scrollTo=OTEDLRtA4I9k "
   ]
  },
  {
   "cell_type": "markdown",
   "metadata": {
    "id": "YL7Kir1Jvwzc"
   },
   "source": [
    "## Load the data"
   ]
  },
  {
   "cell_type": "code",
   "execution_count": 52,
   "metadata": {
    "colab": {
     "base_uri": "https://localhost:8080/",
     "height": 270
    },
    "id": "ATDPsAdxnsr6",
    "outputId": "c5796a79-62ad-4fa8-d86b-6854cf6265d1"
   },
   "outputs": [
    {
     "data": {
      "text/html": [
       "<div>\n",
       "<style scoped>\n",
       "    .dataframe tbody tr th:only-of-type {\n",
       "        vertical-align: middle;\n",
       "    }\n",
       "\n",
       "    .dataframe tbody tr th {\n",
       "        vertical-align: top;\n",
       "    }\n",
       "\n",
       "    .dataframe thead th {\n",
       "        text-align: right;\n",
       "    }\n",
       "</style>\n",
       "<table border=\"1\" class=\"dataframe\">\n",
       "  <thead>\n",
       "    <tr style=\"text-align: right;\">\n",
       "      <th></th>\n",
       "      <th>Timestamp</th>\n",
       "      <th>FIT101</th>\n",
       "      <th>LIT101</th>\n",
       "      <th>MV101</th>\n",
       "      <th>P101</th>\n",
       "      <th>P102</th>\n",
       "      <th>AIT201</th>\n",
       "      <th>AIT202</th>\n",
       "      <th>AIT203</th>\n",
       "      <th>FIT201</th>\n",
       "      <th>...</th>\n",
       "      <th>P501</th>\n",
       "      <th>P502</th>\n",
       "      <th>PIT501</th>\n",
       "      <th>PIT502</th>\n",
       "      <th>PIT503</th>\n",
       "      <th>FIT601</th>\n",
       "      <th>P601</th>\n",
       "      <th>P602</th>\n",
       "      <th>P603</th>\n",
       "      <th>Normal/Attack</th>\n",
       "    </tr>\n",
       "  </thead>\n",
       "  <tbody>\n",
       "    <tr>\n",
       "      <th>0</th>\n",
       "      <td>28/12/2015 10:00:00 AM</td>\n",
       "      <td>2.427057</td>\n",
       "      <td>522.8467</td>\n",
       "      <td>2</td>\n",
       "      <td>2</td>\n",
       "      <td>1</td>\n",
       "      <td>262.0161</td>\n",
       "      <td>8.396437</td>\n",
       "      <td>328.6337</td>\n",
       "      <td>2.445391</td>\n",
       "      <td>...</td>\n",
       "      <td>2</td>\n",
       "      <td>1</td>\n",
       "      <td>250.8652</td>\n",
       "      <td>1.649953</td>\n",
       "      <td>189.5988</td>\n",
       "      <td>0.000128</td>\n",
       "      <td>1</td>\n",
       "      <td>1</td>\n",
       "      <td>1</td>\n",
       "      <td>Normal</td>\n",
       "    </tr>\n",
       "    <tr>\n",
       "      <th>1</th>\n",
       "      <td>28/12/2015 10:00:01 AM</td>\n",
       "      <td>2.446274</td>\n",
       "      <td>522.8860</td>\n",
       "      <td>2</td>\n",
       "      <td>2</td>\n",
       "      <td>1</td>\n",
       "      <td>262.0161</td>\n",
       "      <td>8.396437</td>\n",
       "      <td>328.6337</td>\n",
       "      <td>2.445391</td>\n",
       "      <td>...</td>\n",
       "      <td>2</td>\n",
       "      <td>1</td>\n",
       "      <td>250.8652</td>\n",
       "      <td>1.649953</td>\n",
       "      <td>189.6789</td>\n",
       "      <td>0.000128</td>\n",
       "      <td>1</td>\n",
       "      <td>1</td>\n",
       "      <td>1</td>\n",
       "      <td>Normal</td>\n",
       "    </tr>\n",
       "  </tbody>\n",
       "</table>\n",
       "<p>2 rows × 53 columns</p>\n",
       "</div>"
      ],
      "text/plain": [
       "                 Timestamp    FIT101    LIT101   MV101  P101  P102    AIT201  \\\n",
       "0   28/12/2015 10:00:00 AM  2.427057  522.8467       2     2     1  262.0161   \n",
       "1   28/12/2015 10:00:01 AM  2.446274  522.8860       2     2     1  262.0161   \n",
       "\n",
       "     AIT202    AIT203    FIT201  ...  P501  P502    PIT501    PIT502  \\\n",
       "0  8.396437  328.6337  2.445391  ...     2     1  250.8652  1.649953   \n",
       "1  8.396437  328.6337  2.445391  ...     2     1  250.8652  1.649953   \n",
       "\n",
       "     PIT503    FIT601  P601  P602  P603  Normal/Attack  \n",
       "0  189.5988  0.000128     1     1     1         Normal  \n",
       "1  189.6789  0.000128     1     1     1         Normal  \n",
       "\n",
       "[2 rows x 53 columns]"
      ]
     },
     "execution_count": 52,
     "metadata": {},
     "output_type": "execute_result"
    }
   ],
   "source": [
    "# Download the dataset\n",
    "# PATH_TO_DATA = 'http://storage.googleapis.com/download.tensorflow.org/data/ecg.csv'\n",
    "\n",
    "# data = pd.read_csv(PATH_TO_DATA, header=None)\n",
    "# print(data.shape)\n",
    "# data.head()\n",
    "\n",
    "# import data set from the local driver \n",
    "df=pd.read_csv('SWaT_Dataset_Attack_v0 - Copy.csv')#, parse_dates = ['Timestamp'], index_col = 'Timestamp')\n",
    "df.head(2)     "
   ]
  },
  {
   "cell_type": "code",
   "execution_count": null,
   "metadata": {},
   "outputs": [],
   "source": []
  },
  {
   "cell_type": "code",
   "execution_count": 53,
   "metadata": {},
   "outputs": [],
   "source": [
    "# drop the Acutotor colomuns \n",
    "#df1=df.drop(['Timestamp',' MV101','P101','P102', ' MV201', ' P201', ' P202','P203', ' P204','P205','P206','MV301','MV302',' MV303','MV304','P301','P302','P401','P402','P403','P404','UV401','P501','P502','P601','P602','P603'],axis=1)#, inplace=True)\n",
    "# drop the Acutotor colomuns \n",
    "df1=df.drop(['Timestamp',' MV101','P101','P102', ' MV201', ' P201', ' P202','P203', ' P204','P205','P206','MV301','MV302',' MV303','MV304','P301','P302','P401','P402','P403','P404','UV401','P501','P502','P601','P602','P603'],axis=1)#, inplace=True)   "
   ]
  },
  {
   "cell_type": "code",
   "execution_count": 54,
   "metadata": {},
   "outputs": [
    {
     "data": {
      "text/html": [
       "<div>\n",
       "<style scoped>\n",
       "    .dataframe tbody tr th:only-of-type {\n",
       "        vertical-align: middle;\n",
       "    }\n",
       "\n",
       "    .dataframe tbody tr th {\n",
       "        vertical-align: top;\n",
       "    }\n",
       "\n",
       "    .dataframe thead th {\n",
       "        text-align: right;\n",
       "    }\n",
       "</style>\n",
       "<table border=\"1\" class=\"dataframe\">\n",
       "  <thead>\n",
       "    <tr style=\"text-align: right;\">\n",
       "      <th></th>\n",
       "      <th>FIT101</th>\n",
       "      <th>LIT101</th>\n",
       "      <th>AIT201</th>\n",
       "      <th>AIT202</th>\n",
       "      <th>AIT203</th>\n",
       "      <th>FIT201</th>\n",
       "      <th>DPIT301</th>\n",
       "      <th>FIT301</th>\n",
       "      <th>LIT301</th>\n",
       "      <th>AIT401</th>\n",
       "      <th>...</th>\n",
       "      <th>AIT504</th>\n",
       "      <th>FIT501</th>\n",
       "      <th>FIT502</th>\n",
       "      <th>FIT503</th>\n",
       "      <th>FIT504</th>\n",
       "      <th>PIT501</th>\n",
       "      <th>PIT502</th>\n",
       "      <th>PIT503</th>\n",
       "      <th>FIT601</th>\n",
       "      <th>A</th>\n",
       "    </tr>\n",
       "  </thead>\n",
       "  <tbody>\n",
       "    <tr>\n",
       "      <th>0</th>\n",
       "      <td>2.427057</td>\n",
       "      <td>522.8467</td>\n",
       "      <td>262.0161</td>\n",
       "      <td>8.396437</td>\n",
       "      <td>328.6337</td>\n",
       "      <td>2.445391</td>\n",
       "      <td>19.74838</td>\n",
       "      <td>2.206835</td>\n",
       "      <td>956.1651</td>\n",
       "      <td>148.808</td>\n",
       "      <td>...</td>\n",
       "      <td>12.03538</td>\n",
       "      <td>1.723789</td>\n",
       "      <td>1.279621</td>\n",
       "      <td>0.735269</td>\n",
       "      <td>0.307786</td>\n",
       "      <td>250.8652</td>\n",
       "      <td>1.649953</td>\n",
       "      <td>189.5988</td>\n",
       "      <td>0.000128</td>\n",
       "      <td>Normal</td>\n",
       "    </tr>\n",
       "    <tr>\n",
       "      <th>1</th>\n",
       "      <td>2.446274</td>\n",
       "      <td>522.8860</td>\n",
       "      <td>262.0161</td>\n",
       "      <td>8.396437</td>\n",
       "      <td>328.6337</td>\n",
       "      <td>2.445391</td>\n",
       "      <td>19.74838</td>\n",
       "      <td>2.208244</td>\n",
       "      <td>956.1651</td>\n",
       "      <td>148.808</td>\n",
       "      <td>...</td>\n",
       "      <td>12.03538</td>\n",
       "      <td>1.723789</td>\n",
       "      <td>1.297554</td>\n",
       "      <td>0.735269</td>\n",
       "      <td>0.307786</td>\n",
       "      <td>250.8652</td>\n",
       "      <td>1.649953</td>\n",
       "      <td>189.6789</td>\n",
       "      <td>0.000128</td>\n",
       "      <td>Normal</td>\n",
       "    </tr>\n",
       "  </tbody>\n",
       "</table>\n",
       "<p>2 rows × 26 columns</p>\n",
       "</div>"
      ],
      "text/plain": [
       "     FIT101    LIT101    AIT201    AIT202    AIT203    FIT201   DPIT301  \\\n",
       "0  2.427057  522.8467  262.0161  8.396437  328.6337  2.445391  19.74838   \n",
       "1  2.446274  522.8860  262.0161  8.396437  328.6337  2.445391  19.74838   \n",
       "\n",
       "     FIT301    LIT301   AIT401  ...    AIT504    FIT501    FIT502    FIT503  \\\n",
       "0  2.206835  956.1651  148.808  ...  12.03538  1.723789  1.279621  0.735269   \n",
       "1  2.208244  956.1651  148.808  ...  12.03538  1.723789  1.297554  0.735269   \n",
       "\n",
       "     FIT504    PIT501    PIT502    PIT503    FIT601       A  \n",
       "0  0.307786  250.8652  1.649953  189.5988  0.000128  Normal  \n",
       "1  0.307786  250.8652  1.649953  189.6789  0.000128  Normal  \n",
       "\n",
       "[2 rows x 26 columns]"
      ]
     },
     "execution_count": 54,
     "metadata": {},
     "output_type": "execute_result"
    }
   ],
   "source": [
    "# Rename the col name Normal/Attack with A  \n",
    "df1.rename(columns = {'Normal/Attack':'A'}, inplace = True)\n",
    "df1.head(2)   "
   ]
  },
  {
   "cell_type": "code",
   "execution_count": 55,
   "metadata": {},
   "outputs": [],
   "source": [
    "df1['Normal/Attack'] = df1['A'].str.replace(' ', '')  "
   ]
  },
  {
   "cell_type": "code",
   "execution_count": 56,
   "metadata": {},
   "outputs": [
    {
     "name": "stdout",
     "output_type": "stream",
     "text": [
      "size of class 1 (outliers): 0, size of class 0: 0\n"
     ]
    },
    {
     "data": {
      "image/png": "[encoded data removed]",
      "text/plain": [
       "<Figure size 1080x144 with 1 Axes>"
      ]
     },
     "metadata": {
      "needs_background": "light"
     },
     "output_type": "display_data"
    }
   ],
   "source": [
    "import seaborn as sns #visualisation\n",
    "# Plot the balance of class labels\n",
    "df_base = df1.copy()\n",
    "nominal_count = len(df_base.loc[df1['A'] == 0, 'A'])\n",
    "outlier_count = len(df_base.loc[df1['A'] == 1, 'A'])\n",
    "print(f'size of class 1 (outliers): {outlier_count}, size of class 0: {nominal_count}')\n",
    "\n",
    "plt.figure(figsize=(15,2))\n",
    "fig = sns.countplot(y=\"A\", data=df_base, color='b') "
   ]
  },
  {
   "cell_type": "code",
   "execution_count": 57,
   "metadata": {},
   "outputs": [
    {
     "name": "stderr",
     "output_type": "stream",
     "text": [
      "/tmp/ipykernel_120/2039620818.py:3: SettingWithCopyWarning: \n",
      "A value is trying to be set on a copy of a slice from a DataFrame\n",
      "\n",
      "See the caveats in the documentation: https://pandas.pydata.org/pandas-docs/stable/user_guide/indexing.html#returning-a-view-versus-a-copy\n",
      "  df1.A[df1.A == 'Normal'] = 0\n",
      "/tmp/ipykernel_120/2039620818.py:4: SettingWithCopyWarning: \n",
      "A value is trying to be set on a copy of a slice from a DataFrame\n",
      "\n",
      "See the caveats in the documentation: https://pandas.pydata.org/pandas-docs/stable/user_guide/indexing.html#returning-a-view-versus-a-copy\n",
      "  df1.A[df1.A == 'Attack'] = 1\n"
     ]
    }
   ],
   "source": [
    "# Convert non-numeric to numeric\n",
    "\n",
    "df1.A[df1.A == 'Normal'] = 0 \n",
    "df1.A[df1.A == 'Attack'] = 1  "
   ]
  },
  {
   "cell_type": "code",
   "execution_count": null,
   "metadata": {},
   "outputs": [],
   "source": []
  },
  {
   "cell_type": "code",
   "execution_count": 58,
   "metadata": {},
   "outputs": [],
   "source": [
    "df1=df1.drop(['Normal/Attack'],axis=1)"
   ]
  },
  {
   "cell_type": "markdown",
   "metadata": {},
   "source": [
    "## Split the data for training and testing"
   ]
  },
  {
   "cell_type": "code",
   "execution_count": 59,
   "metadata": {},
   "outputs": [],
   "source": [
    "# last column is the target\n",
    "# 0 = anomaly, 1 = normal\n",
    "#TARGET = df1['A'] \n",
    "\n",
    "#features = df1.drop(TARGET, axis=1)\n",
    "features=df1.drop(['A'],axis=1)\n",
    "target = df1['A']\n",
    "\n",
    "x_train, x_test, y_train, y_test = train_test_split(features, target, test_size=0.2,random_state=1234)#, stratify=target) "
   ]
  },
  {
   "cell_type": "code",
   "execution_count": 60,
   "metadata": {},
   "outputs": [
    {
     "data": {
      "text/plain": [
       "69476     0\n",
       "80519     0\n",
       "373441    0\n",
       "429139    0\n",
       "254580    1\n",
       "         ..\n",
       "294543    0\n",
       "344728    0\n",
       "220532    0\n",
       "384053    0\n",
       "165158    0\n",
       "Name: A, Length: 359935, dtype: object"
      ]
     },
     "execution_count": 60,
     "metadata": {},
     "output_type": "execute_result"
    }
   ],
   "source": [
    "y_train"
   ]
  },
  {
   "cell_type": "code",
   "execution_count": 61,
   "metadata": {},
   "outputs": [],
   "source": [
    "# df_normal = df1[Normal_mask]\n",
    "# df_attack = df1[Attack_mask] \n",
    "# print(f\"Normal count: {len(df_normal)}\")\n",
    "# print(f\"Attack count: {len(df_attack)}\")   "
   ]
  },
  {
   "cell_type": "code",
   "execution_count": 62,
   "metadata": {},
   "outputs": [],
   "source": [
    "# # # This is the feature vector that goes to the neural net\n",
    "# x_good = df_normal.values \n",
    "# x_bad = df_attack.values   "
   ]
  },
  {
   "cell_type": "code",
   "execution_count": null,
   "metadata": {},
   "outputs": [],
   "source": []
  },
  {
   "cell_type": "markdown",
   "metadata": {
    "id": "sV6KUkRgvoOK"
   },
   "source": []
  },
  {
   "cell_type": "code",
   "execution_count": 64,
   "metadata": {
    "id": "2mjzHNYjLviR"
   },
   "outputs": [],
   "source": [
    "# use case is novelty detection so use only the normal data\n",
    "# for training\n",
    "train_index = y_train[y_train == 1].index\n",
    "train_data = x_train.loc[train_index]"
   ]
  },
  {
   "cell_type": "markdown",
   "metadata": {
    "id": "mfk5mwbhv03v"
   },
   "source": [
    "## Scale the data using MinMaxScaler"
   ]
  },
  {
   "cell_type": "code",
   "execution_count": 65,
   "metadata": {
    "id": "cmJhTiuBts4F"
   },
   "outputs": [],
   "source": [
    "min_max_scaler = MinMaxScaler(feature_range=(0, 1))\n",
    "x_train_scaled = min_max_scaler.fit_transform(train_data.copy())\n",
    "x_test_scaled = min_max_scaler.transform(x_test.copy())"
   ]
  },
  {
   "cell_type": "markdown",
   "metadata": {
    "id": "AFLk9eJrwqvl"
   },
   "source": [
    "## Build an AutoEncoder model"
   ]
  },
  {
   "cell_type": "code",
   "execution_count": 115,
   "metadata": {
    "id": "N9VmLu89uPIY"
   },
   "outputs": [],
   "source": [
    "# create a model by subclassing Model class in tensorflow\n",
    "class AutoEncoder(Model):\n",
    "  \"\"\"\n",
    "  Parameters\n",
    "  ----------\n",
    "  output_units: int\n",
    "    Number of output units\n",
    "  \n",
    "  code_size: int\n",
    "    Number of units in bottle neck\n",
    "  \"\"\"\n",
    "\n",
    "  def __init__(self, output_units, code_size=8):\n",
    "    super().__init__()\n",
    "    self.encoder = Sequential([\n",
    "      Dense(40, activation='relu'),\n",
    "      Dropout(0.1),\n",
    "      Dense(32, activation='relu'),\n",
    "      Dropout(0.1),\n",
    "      Dense(16, activation='relu'),\n",
    "      Dropout(0.1),\n",
    "      Dense(code_size, activation='relu')\n",
    "    ])\n",
    "    self.decoder = Sequential([\n",
    "      Dense(44, activation='relu'),\n",
    "      Dropout(0.1),\n",
    "      Dense(36, activation='relu'),\n",
    "      Dropout(0.1),\n",
    "      Dense(36, activation='relu'),\n",
    "      Dropout(0.1),\n",
    "      Dense(output_units, activation='sigmoid')\n",
    "    ])\n",
    "  \n",
    "  def call(self, inputs):\n",
    "    encoded = self.encoder(inputs)\n",
    "    decoded = self.decoder(encoded)\n",
    "    return decoded"
   ]
  },
  {
   "cell_type": "code",
   "execution_count": 118,
   "metadata": {
    "colab": {
     "base_uri": "https://localhost:8080/"
    },
    "id": "-oylLrsQuPD5",
    "outputId": "9e8b92a5-2507-4f5e-a9a1-33c398d36a70"
   },
   "outputs": [
    {
     "name": "stdout",
     "output_type": "stream",
     "text": [
      "Epoch 1/100\n",
      "86/86 [==============================] - 3s 24ms/step - loss: 0.0505 - mse: 0.1025 - val_loss: 0.0271 - val_mse: 0.0657\n",
      "Epoch 2/100\n",
      "86/86 [==============================] - 2s 20ms/step - loss: 0.0137 - mse: 0.0300 - val_loss: 0.0146 - val_mse: 0.0318\n",
      "Epoch 3/100\n",
      "86/86 [==============================] - 2s 21ms/step - loss: 0.0107 - mse: 0.0231 - val_loss: 0.0113 - val_mse: 0.0239\n",
      "Epoch 4/100\n",
      "86/86 [==============================] - 2s 22ms/step - loss: 0.0086 - mse: 0.0187 - val_loss: 0.0104 - val_mse: 0.0217\n",
      "Epoch 5/100\n",
      "86/86 [==============================] - 2s 22ms/step - loss: 0.0076 - mse: 0.0166 - val_loss: 0.0100 - val_mse: 0.0210\n",
      "Epoch 6/100\n",
      "86/86 [==============================] - 2s 22ms/step - loss: 0.0070 - mse: 0.0154 - val_loss: 0.0097 - val_mse: 0.0203\n",
      "Epoch 7/100\n",
      "86/86 [==============================] - 2s 21ms/step - loss: 0.0067 - mse: 0.0147 - val_loss: 0.0093 - val_mse: 0.0196\n",
      "Epoch 8/100\n",
      "86/86 [==============================] - 2s 24ms/step - loss: 0.0064 - mse: 0.0140 - val_loss: 0.0087 - val_mse: 0.0184\n",
      "Epoch 9/100\n",
      "86/86 [==============================] - 2s 21ms/step - loss: 0.0060 - mse: 0.0132 - val_loss: 0.0079 - val_mse: 0.0168\n",
      "Epoch 10/100\n",
      "86/86 [==============================] - 2s 23ms/step - loss: 0.0055 - mse: 0.0120 - val_loss: 0.0074 - val_mse: 0.0156\n",
      "Epoch 11/100\n",
      "86/86 [==============================] - 2s 21ms/step - loss: 0.0049 - mse: 0.0108 - val_loss: 0.0061 - val_mse: 0.0131\n",
      "Epoch 12/100\n",
      "86/86 [==============================] - 2s 21ms/step - loss: 0.0044 - mse: 0.0097 - val_loss: 0.0052 - val_mse: 0.0115\n",
      "Epoch 13/100\n",
      "86/86 [==============================] - 2s 23ms/step - loss: 0.0041 - mse: 0.0090 - val_loss: 0.0050 - val_mse: 0.0110\n",
      "Epoch 14/100\n",
      "86/86 [==============================] - 2s 24ms/step - loss: 0.0039 - mse: 0.0085 - val_loss: 0.0047 - val_mse: 0.0105\n",
      "Epoch 15/100\n",
      "86/86 [==============================] - 2s 23ms/step - loss: 0.0037 - mse: 0.0082 - val_loss: 0.0047 - val_mse: 0.0103\n",
      "Epoch 16/100\n",
      "86/86 [==============================] - 2s 23ms/step - loss: 0.0036 - mse: 0.0079 - val_loss: 0.0046 - val_mse: 0.0103\n",
      "Epoch 17/100\n",
      "86/86 [==============================] - 2s 22ms/step - loss: 0.0035 - mse: 0.0076 - val_loss: 0.0045 - val_mse: 0.0101\n",
      "Epoch 18/100\n",
      "86/86 [==============================] - 2s 21ms/step - loss: 0.0034 - mse: 0.0074 - val_loss: 0.0045 - val_mse: 0.0099\n",
      "Epoch 19/100\n",
      "86/86 [==============================] - 2s 21ms/step - loss: 0.0033 - mse: 0.0073 - val_loss: 0.0045 - val_mse: 0.0100\n",
      "Epoch 20/100\n",
      "86/86 [==============================] - 2s 24ms/step - loss: 0.0032 - mse: 0.0071 - val_loss: 0.0044 - val_mse: 0.0098\n",
      "Epoch 21/100\n",
      "86/86 [==============================] - 2s 20ms/step - loss: 0.0031 - mse: 0.0070 - val_loss: 0.0043 - val_mse: 0.0095\n",
      "Epoch 22/100\n",
      "86/86 [==============================] - 2s 23ms/step - loss: 0.0031 - mse: 0.0068 - val_loss: 0.0043 - val_mse: 0.0096\n",
      "Epoch 23/100\n",
      "86/86 [==============================] - 2s 21ms/step - loss: 0.0030 - mse: 0.0067 - val_loss: 0.0043 - val_mse: 0.0098\n",
      "Epoch 24/100\n",
      "86/86 [==============================] - 2s 21ms/step - loss: 0.0030 - mse: 0.0066 - val_loss: 0.0043 - val_mse: 0.0096\n",
      "Epoch 25/100\n",
      "86/86 [==============================] - 2s 22ms/step - loss: 0.0029 - mse: 0.0065 - val_loss: 0.0041 - val_mse: 0.0092\n",
      "Epoch 26/100\n",
      "86/86 [==============================] - 2s 22ms/step - loss: 0.0028 - mse: 0.0064 - val_loss: 0.0041 - val_mse: 0.0092\n",
      "Epoch 27/100\n",
      "86/86 [==============================] - 2s 21ms/step - loss: 0.0028 - mse: 0.0062 - val_loss: 0.0041 - val_mse: 0.0093\n",
      "Epoch 28/100\n",
      "86/86 [==============================] - 2s 21ms/step - loss: 0.0027 - mse: 0.0061 - val_loss: 0.0042 - val_mse: 0.0095\n",
      "Epoch 29/100\n",
      "86/86 [==============================] - 2s 22ms/step - loss: 0.0027 - mse: 0.0060 - val_loss: 0.0040 - val_mse: 0.0090\n",
      "Epoch 30/100\n",
      "86/86 [==============================] - 2s 23ms/step - loss: 0.0026 - mse: 0.0059 - val_loss: 0.0040 - val_mse: 0.0090\n",
      "Epoch 31/100\n",
      "86/86 [==============================] - 2s 21ms/step - loss: 0.0026 - mse: 0.0058 - val_loss: 0.0040 - val_mse: 0.0090\n",
      "Epoch 32/100\n",
      "86/86 [==============================] - 2s 23ms/step - loss: 0.0026 - mse: 0.0057 - val_loss: 0.0041 - val_mse: 0.0092\n",
      "Epoch 33/100\n",
      "86/86 [==============================] - 2s 22ms/step - loss: 0.0025 - mse: 0.0057 - val_loss: 0.0042 - val_mse: 0.0095\n",
      "Epoch 34/100\n",
      "86/86 [==============================] - 2s 21ms/step - loss: 0.0025 - mse: 0.0056 - val_loss: 0.0042 - val_mse: 0.0094\n",
      "Epoch 35/100\n",
      "86/86 [==============================] - 2s 23ms/step - loss: 0.0025 - mse: 0.0055 - val_loss: 0.0042 - val_mse: 0.0093\n",
      "Epoch 36/100\n",
      "86/86 [==============================] - 2s 21ms/step - loss: 0.0024 - mse: 0.0054 - val_loss: 0.0043 - val_mse: 0.0095\n",
      "Epoch 37/100\n",
      "86/86 [==============================] - 2s 23ms/step - loss: 0.0024 - mse: 0.0054 - val_loss: 0.0041 - val_mse: 0.0092\n",
      "Epoch 38/100\n",
      "86/86 [==============================] - 2s 22ms/step - loss: 0.0024 - mse: 0.0053 - val_loss: 0.0044 - val_mse: 0.0096\n",
      "Epoch 39/100\n",
      "86/86 [==============================] - 2s 21ms/step - loss: 0.0024 - mse: 0.0053 - val_loss: 0.0042 - val_mse: 0.0093\n",
      "Epoch 40/100\n",
      "86/86 [==============================] - 2s 23ms/step - loss: 0.0023 - mse: 0.0052 - val_loss: 0.0040 - val_mse: 0.0089\n",
      "Epoch 41/100\n",
      "86/86 [==============================] - 2s 22ms/step - loss: 0.0023 - mse: 0.0052 - val_loss: 0.0040 - val_mse: 0.0090\n",
      "Epoch 42/100\n",
      "86/86 [==============================] - 2s 22ms/step - loss: 0.0023 - mse: 0.0051 - val_loss: 0.0043 - val_mse: 0.0094\n",
      "Epoch 43/100\n",
      "86/86 [==============================] - 2s 22ms/step - loss: 0.0023 - mse: 0.0051 - val_loss: 0.0041 - val_mse: 0.0092\n",
      "Epoch 44/100\n",
      "86/86 [==============================] - 2s 21ms/step - loss: 0.0022 - mse: 0.0050 - val_loss: 0.0038 - val_mse: 0.0084\n",
      "Epoch 45/100\n",
      "86/86 [==============================] - 2s 22ms/step - loss: 0.0023 - mse: 0.0051 - val_loss: 0.0037 - val_mse: 0.0083\n",
      "Epoch 46/100\n",
      "86/86 [==============================] - 2s 22ms/step - loss: 0.0022 - mse: 0.0050 - val_loss: 0.0040 - val_mse: 0.0089\n",
      "Epoch 47/100\n",
      "86/86 [==============================] - 2s 21ms/step - loss: 0.0022 - mse: 0.0049 - val_loss: 0.0036 - val_mse: 0.0080\n",
      "Epoch 48/100\n",
      "86/86 [==============================] - 2s 24ms/step - loss: 0.0022 - mse: 0.0049 - val_loss: 0.0040 - val_mse: 0.0088\n",
      "Epoch 49/100\n",
      "86/86 [==============================] - 2s 21ms/step - loss: 0.0022 - mse: 0.0048 - val_loss: 0.0039 - val_mse: 0.0086\n",
      "Epoch 50/100\n",
      "86/86 [==============================] - 2s 21ms/step - loss: 0.0021 - mse: 0.0048 - val_loss: 0.0039 - val_mse: 0.0086\n",
      "Epoch 51/100\n",
      "86/86 [==============================] - 2s 23ms/step - loss: 0.0021 - mse: 0.0047 - val_loss: 0.0038 - val_mse: 0.0085\n",
      "Epoch 52/100\n",
      "86/86 [==============================] - 2s 21ms/step - loss: 0.0021 - mse: 0.0047 - val_loss: 0.0037 - val_mse: 0.0082\n",
      "Epoch 53/100\n",
      "86/86 [==============================] - 2s 24ms/step - loss: 0.0021 - mse: 0.0047 - val_loss: 0.0038 - val_mse: 0.0085\n",
      "Epoch 54/100\n",
      "86/86 [==============================] - 2s 20ms/step - loss: 0.0021 - mse: 0.0046 - val_loss: 0.0034 - val_mse: 0.0077\n",
      "Epoch 55/100\n",
      "86/86 [==============================] - 2s 24ms/step - loss: 0.0020 - mse: 0.0046 - val_loss: 0.0035 - val_mse: 0.0079\n",
      "Epoch 56/100\n",
      "86/86 [==============================] - 2s 21ms/step - loss: 0.0020 - mse: 0.0046 - val_loss: 0.0036 - val_mse: 0.0079\n",
      "Epoch 57/100\n",
      "86/86 [==============================] - 2s 25ms/step - loss: 0.0020 - mse: 0.0045 - val_loss: 0.0036 - val_mse: 0.0080\n",
      "Epoch 58/100\n",
      "86/86 [==============================] - 2s 22ms/step - loss: 0.0020 - mse: 0.0045 - val_loss: 0.0035 - val_mse: 0.0078\n",
      "Epoch 59/100\n",
      "86/86 [==============================] - 2s 21ms/step - loss: 0.0020 - mse: 0.0044 - val_loss: 0.0037 - val_mse: 0.0081\n",
      "Epoch 60/100\n",
      "86/86 [==============================] - 2s 22ms/step - loss: 0.0020 - mse: 0.0044 - val_loss: 0.0035 - val_mse: 0.0078\n",
      "Epoch 61/100\n",
      "86/86 [==============================] - 2s 21ms/step - loss: 0.0019 - mse: 0.0044 - val_loss: 0.0035 - val_mse: 0.0079\n",
      "Epoch 62/100\n",
      "86/86 [==============================] - 2s 21ms/step - loss: 0.0019 - mse: 0.0044 - val_loss: 0.0039 - val_mse: 0.0085\n",
      "Epoch 63/100\n",
      "86/86 [==============================] - 2s 22ms/step - loss: 0.0019 - mse: 0.0043 - val_loss: 0.0040 - val_mse: 0.0089\n",
      "Epoch 64/100\n",
      "86/86 [==============================] - 2s 22ms/step - loss: 0.0019 - mse: 0.0042 - val_loss: 0.0039 - val_mse: 0.0086\n",
      "Epoch 65/100\n",
      "86/86 [==============================] - 2s 22ms/step - loss: 0.0019 - mse: 0.0043 - val_loss: 0.0038 - val_mse: 0.0084\n",
      "Epoch 66/100\n",
      "86/86 [==============================] - 2s 23ms/step - loss: 0.0019 - mse: 0.0042 - val_loss: 0.0034 - val_mse: 0.0075\n",
      "Epoch 67/100\n",
      "86/86 [==============================] - 2s 21ms/step - loss: 0.0019 - mse: 0.0042 - val_loss: 0.0034 - val_mse: 0.0076\n",
      "Epoch 68/100\n",
      "86/86 [==============================] - 2s 22ms/step - loss: 0.0018 - mse: 0.0042 - val_loss: 0.0032 - val_mse: 0.0072\n",
      "Epoch 69/100\n",
      "86/86 [==============================] - 2s 23ms/step - loss: 0.0018 - mse: 0.0041 - val_loss: 0.0032 - val_mse: 0.0072\n",
      "Epoch 70/100\n",
      "86/86 [==============================] - 2s 21ms/step - loss: 0.0018 - mse: 0.0041 - val_loss: 0.0033 - val_mse: 0.0073\n",
      "Epoch 71/100\n",
      "86/86 [==============================] - 2s 24ms/step - loss: 0.0018 - mse: 0.0041 - val_loss: 0.0032 - val_mse: 0.0073\n",
      "Epoch 72/100\n",
      "86/86 [==============================] - 2s 19ms/step - loss: 0.0018 - mse: 0.0040 - val_loss: 0.0034 - val_mse: 0.0076\n",
      "Epoch 73/100\n",
      "86/86 [==============================] - 2s 20ms/step - loss: 0.0018 - mse: 0.0041 - val_loss: 0.0034 - val_mse: 0.0076\n",
      "Epoch 74/100\n",
      "86/86 [==============================] - 2s 22ms/step - loss: 0.0018 - mse: 0.0040 - val_loss: 0.0035 - val_mse: 0.0078\n",
      "Epoch 75/100\n",
      "86/86 [==============================] - 2s 21ms/step - loss: 0.0018 - mse: 0.0040 - val_loss: 0.0033 - val_mse: 0.0073\n",
      "Epoch 76/100\n",
      "86/86 [==============================] - 2s 23ms/step - loss: 0.0018 - mse: 0.0040 - val_loss: 0.0032 - val_mse: 0.0072\n",
      "Epoch 77/100\n",
      "86/86 [==============================] - 2s 21ms/step - loss: 0.0018 - mse: 0.0040 - val_loss: 0.0033 - val_mse: 0.0073\n",
      "Epoch 78/100\n",
      "86/86 [==============================] - 2s 23ms/step - loss: 0.0018 - mse: 0.0039 - val_loss: 0.0035 - val_mse: 0.0079\n",
      "Epoch 79/100\n",
      "86/86 [==============================] - 2s 21ms/step - loss: 0.0017 - mse: 0.0039 - val_loss: 0.0033 - val_mse: 0.0073\n",
      "Epoch 80/100\n",
      "86/86 [==============================] - 2s 22ms/step - loss: 0.0017 - mse: 0.0039 - val_loss: 0.0032 - val_mse: 0.0072\n",
      "Epoch 81/100\n",
      "86/86 [==============================] - 2s 21ms/step - loss: 0.0017 - mse: 0.0039 - val_loss: 0.0032 - val_mse: 0.0071\n",
      "Epoch 82/100\n",
      "86/86 [==============================] - 2s 22ms/step - loss: 0.0017 - mse: 0.0038 - val_loss: 0.0034 - val_mse: 0.0075\n",
      "Epoch 83/100\n",
      "86/86 [==============================] - 2s 22ms/step - loss: 0.0017 - mse: 0.0038 - val_loss: 0.0034 - val_mse: 0.0076\n",
      "Epoch 84/100\n",
      "86/86 [==============================] - 2s 21ms/step - loss: 0.0017 - mse: 0.0038 - val_loss: 0.0033 - val_mse: 0.0074\n",
      "Epoch 85/100\n",
      "86/86 [==============================] - 2s 22ms/step - loss: 0.0017 - mse: 0.0037 - val_loss: 0.0034 - val_mse: 0.0076\n",
      "Epoch 86/100\n",
      "86/86 [==============================] - 2s 23ms/step - loss: 0.0017 - mse: 0.0038 - val_loss: 0.0033 - val_mse: 0.0075\n",
      "Epoch 87/100\n",
      "86/86 [==============================] - 2s 20ms/step - loss: 0.0017 - mse: 0.0038 - val_loss: 0.0031 - val_mse: 0.0070\n",
      "Epoch 88/100\n",
      "86/86 [==============================] - 2s 23ms/step - loss: 0.0017 - mse: 0.0037 - val_loss: 0.0033 - val_mse: 0.0073\n",
      "Epoch 89/100\n",
      "86/86 [==============================] - 2s 21ms/step - loss: 0.0016 - mse: 0.0037 - val_loss: 0.0031 - val_mse: 0.0071\n",
      "Epoch 90/100\n",
      "86/86 [==============================] - 2s 23ms/step - loss: 0.0016 - mse: 0.0036 - val_loss: 0.0031 - val_mse: 0.0070\n",
      "Epoch 91/100\n",
      "86/86 [==============================] - 2s 20ms/step - loss: 0.0016 - mse: 0.0036 - val_loss: 0.0031 - val_mse: 0.0070\n",
      "Epoch 92/100\n",
      "86/86 [==============================] - 2s 23ms/step - loss: 0.0016 - mse: 0.0036 - val_loss: 0.0031 - val_mse: 0.0070\n",
      "Epoch 93/100\n",
      "86/86 [==============================] - 2s 22ms/step - loss: 0.0016 - mse: 0.0036 - val_loss: 0.0031 - val_mse: 0.0070\n",
      "Epoch 94/100\n",
      "86/86 [==============================] - 2s 22ms/step - loss: 0.0016 - mse: 0.0037 - val_loss: 0.0030 - val_mse: 0.0068\n",
      "Epoch 95/100\n",
      "86/86 [==============================] - 2s 23ms/step - loss: 0.0016 - mse: 0.0036 - val_loss: 0.0030 - val_mse: 0.0068\n",
      "Epoch 96/100\n",
      "86/86 [==============================] - 2s 22ms/step - loss: 0.0016 - mse: 0.0036 - val_loss: 0.0030 - val_mse: 0.0068\n",
      "Epoch 97/100\n",
      "86/86 [==============================] - 2s 22ms/step - loss: 0.0016 - mse: 0.0035 - val_loss: 0.0031 - val_mse: 0.0070\n",
      "Epoch 98/100\n",
      "86/86 [==============================] - 2s 20ms/step - loss: 0.0016 - mse: 0.0035 - val_loss: 0.0031 - val_mse: 0.0069\n",
      "Epoch 99/100\n",
      "86/86 [==============================] - 2s 24ms/step - loss: 0.0015 - mse: 0.0035 - val_loss: 0.0031 - val_mse: 0.0069\n",
      "Epoch 100/100\n",
      "86/86 [==============================] - 2s 23ms/step - loss: 0.0016 - mse: 0.0035 - val_loss: 0.0031 - val_mse: 0.0069\n"
     ]
    }
   ],
   "source": [
    "model = AutoEncoder(output_units=x_train_scaled.shape[1])\n",
    "# configurations of model\n",
    "model.compile(loss='msle', metrics=['mse'], optimizer='adam')\n",
    "\n",
    "history = model.fit(\n",
    "    x_train_scaled,\n",
    "    x_train_scaled,\n",
    "    epochs=100,\n",
    "    batch_size=512,\n",
    "    validation_data=(x_test_scaled, x_test_scaled)\n",
    ")"
   ]
  },
  {
   "cell_type": "markdown",
   "metadata": {
    "id": "DCD6ykuG6wvV"
   },
   "source": [
    "## Plot history"
   ]
  },
  {
   "cell_type": "code",
   "execution_count": 119,
   "metadata": {
    "colab": {
     "base_uri": "https://localhost:8080/",
     "height": 281
    },
    "id": "ohEpArnj6NMG",
    "outputId": "9e513350-cbc3-4602-ddc6-7e8104302d2a"
   },
   "outputs": [
    {
     "data": {
      "image/png": "[encoded data removed]",
      "text/plain": [
       "<Figure size 432x288 with 1 Axes>"
      ]
     },
     "metadata": {
      "needs_background": "light"
     },
     "output_type": "display_data"
    }
   ],
   "source": [
    "plt.plot(history.history['loss'])\n",
    "plt.plot(history.history['val_loss'])\n",
    "plt.xlabel('Epochs')\n",
    "plt.ylabel('MSLE Loss')\n",
    "plt.legend(['loss', 'val_loss'])\n",
    "plt.show()"
   ]
  },
  {
   "cell_type": "markdown",
   "metadata": {
    "id": "OPNtOnsENWwc"
   },
   "source": [
    "## Find threshold"
   ]
  },
  {
   "cell_type": "code",
   "execution_count": 120,
   "metadata": {
    "id": "ACFZcFWEFNpQ"
   },
   "outputs": [],
   "source": [
    "def find_threshold(model, x_train_scaled):\n",
    "  reconstructions = model.predict(x_train_scaled)\n",
    "  # provides losses of individual instances\n",
    "  reconstruction_errors = tf.keras.losses.msle(reconstructions, x_train_scaled)\n",
    "\n",
    "  # threshold for anomaly scores\n",
    "  threshold = np.mean(reconstruction_errors.numpy()) \\\n",
    "      + np.std(reconstruction_errors.numpy())\n",
    "  return threshold\n",
    "\n",
    "def find_threshold_method_two(model, x_train_scaled):\n",
    "  # another method to find threshold\n",
    "  reconstructions = model.predict(x_train_scaled)\n",
    "  # provides losses of individual instances\n",
    "  reconstruction_errors = tf.keras.losses.msle(reconstructions, x_train_scaled)\n",
    "\n",
    "  threshold_2 = np.percentile(reconstruction_errors, 95)\n",
    "  return threshold_2\n",
    "\n",
    "def get_predictions(model, x_test_scaled, threshold):\n",
    "  predictions = model.predict(x_test_scaled)\n",
    "  # provides losses of individual instances\n",
    "  errors = tf.keras.losses.msle(predictions, x_test_scaled)\n",
    "  # 0 = anomaly, 1 = normal\n",
    "  anomaly_mask = pd.Series(errors) > threshold\n",
    "  preds = anomaly_mask.map(lambda x: 0.0 if x == True else 1.0)\n",
    "  return preds"
   ]
  },
  {
   "cell_type": "code",
   "execution_count": 121,
   "metadata": {
    "colab": {
     "base_uri": "https://localhost:8080/"
    },
    "id": "W4Mxr7cnHPk-",
    "outputId": "44e0954e-fa48-47ed-e0bb-9276cb67aa5d"
   },
   "outputs": [
    {
     "name": "stdout",
     "output_type": "stream",
     "text": [
      "Threshold method one: 0.0038831048139879353\n",
      "Threshold method two: 0.0037323796718189218\n"
     ]
    }
   ],
   "source": [
    "threshold = find_threshold(model, x_train_scaled)\n",
    "print(f\"Threshold method one: {threshold}\")\n",
    "\n",
    "threshold_2 = find_threshold_method_two(model, x_train_scaled)\n",
    "print(f\"Threshold method two: {threshold_2}\")"
   ]
  },
  {
   "cell_type": "markdown",
   "metadata": {},
   "source": [
    "#### Measure the Perfomance of the Model "
   ]
  },
  {
   "cell_type": "code",
   "execution_count": 132,
   "metadata": {},
   "outputs": [],
   "source": [
    "# # to check what metrics we provide \n",
    "# model.metrics_names\n",
    "# score=model.evaluate(x_test_scaled,x_test_scaled)#,batch_size=128)"
   ]
  },
  {
   "cell_type": "code",
   "execution_count": 126,
   "metadata": {
    "colab": {
     "base_uri": "https://localhost:8080/"
    },
    "id": "Bl0Op0GNHVDD",
    "outputId": "81efd337-cd8e-47e0-e4ca-d0e19c1ef2e1"
   },
   "outputs": [
    {
     "data": {
      "text/plain": [
       "292561    0\n",
       "305362    0\n",
       "61682     0\n",
       "439720    0\n",
       "45559     0\n",
       "         ..\n",
       "158913    0\n",
       "355828    0\n",
       "345600    0\n",
       "108649    0\n",
       "190615    0\n",
       "Name: A, Length: 89984, dtype: object"
      ]
     },
     "execution_count": 126,
     "metadata": {},
     "output_type": "execute_result"
    }
   ],
   "source": [
    "preds = get_predictions(model, x_test_scaled, threshold)\n",
    "#preds\n",
    "y_test\n",
    "#accuracy_score(preds, y_test)\n",
    "#accuracy_score(y_test, np.round(abs(preds)), normalize=False)   "
   ]
  },
  {
   "cell_type": "code",
   "execution_count": 123,
   "metadata": {},
   "outputs": [],
   "source": [
    "from sklearn.metrics import (confusion_matrix,precision_recall_curve)  \n",
    "# get (mis)classification\n",
    "# cm = confusion_matrix(y_test, preds) \n",
    "# cm"
   ]
  },
  {
   "cell_type": "code",
   "execution_count": 91,
   "metadata": {},
   "outputs": [],
   "source": [
    "# from sklearn.metrics import precision_score, recall_score, f1_score, accuracy_score \n",
    "# print('Recall: %.3f' % recall_score(y_test, preds)) \n",
    "# print('Precision: %.3f' % precision_score(y_test, preds)) \n",
    "\n",
    " "
   ]
  },
  {
   "cell_type": "markdown",
   "metadata": {},
   "source": [
    "#### Detecting anomalies \n",
    "- https://keras.io/examples/timeseries/timeseries_anomaly_detection/ "
   ]
  },
  {
   "cell_type": "code",
   "execution_count": 133,
   "metadata": {},
   "outputs": [
    {
     "data": {
      "image/png": "[encoded data removed]",
      "text/plain": [
       "<Figure size 432x288 with 1 Axes>"
      ]
     },
     "metadata": {
      "needs_background": "light"
     },
     "output_type": "display_data"
    },
    {
     "name": "stdout",
     "output_type": "stream",
     "text": [
      "Reconstruction error threshold:  0.28604644631764303\n"
     ]
    }
   ],
   "source": [
    "# Get train MAE loss.\n",
    "x_train_pred = model.predict(x_train_scaled)\n",
    "train_mae_loss = np.mean(np.abs(x_train_pred - x_train_scaled), axis=1)\n",
    "\n",
    "plt.hist(train_mae_loss, bins=50)\n",
    "plt.xlabel(\"Train MAE loss\")\n",
    "plt.ylabel(\"No of samples\")\n",
    "plt.show()\n",
    "\n",
    "# Get reconstruction loss threshold.\n",
    "threshold = np.max(train_mae_loss)\n",
    "print(\"Reconstruction error threshold: \", threshold) "
   ]
  },
  {
   "cell_type": "code",
   "execution_count": 134,
   "metadata": {},
   "outputs": [
    {
     "data": {
      "image/png": "[encoded data removed]",
      "text/plain": [
       "<Figure size 432x288 with 1 Axes>"
      ]
     },
     "metadata": {
      "needs_background": "light"
     },
     "output_type": "display_data"
    }
   ],
   "source": [
    "# Checking how the first sequence is learnt\n",
    "plt.plot(x_train_scaled[0])\n",
    "plt.plot(x_train_pred[0])\n",
    "plt.show() "
   ]
  },
  {
   "cell_type": "code",
   "execution_count": null,
   "metadata": {},
   "outputs": [],
   "source": []
  },
  {
   "cell_type": "markdown",
   "metadata": {
    "id": "6TSdu3Uk7ASm"
   },
   "source": [
    "## Tuning AutoEncoder using keras tuner\n",
    "\n"
   ]
  },
  {
   "cell_type": "code",
   "execution_count": 107,
   "metadata": {
    "colab": {
     "base_uri": "https://localhost:8080/"
    },
    "id": "1Zt5CaPNCh__",
    "outputId": "66ce8062-88c7-4967-a538-1736f70cf5ca"
   },
   "outputs": [],
   "source": [
    "#!pip install -U keras-tuner\n",
    "import keras_tuner \n",
    "import kerastuner as kt"
   ]
  },
  {
   "cell_type": "code",
   "execution_count": 108,
   "metadata": {
    "id": "-AwQid85DbyC"
   },
   "outputs": [],
   "source": [
    "import kerastuner as kt\n",
    "\n",
    "class AutoEncoderTuner(Model):\n",
    "\n",
    "  def __init__(self, hp, output_units, code_size=8):\n",
    "    super().__init__()\n",
    "    dense_1_units = hp.Int('dense_1_units', min_value=16, max_value=72, step=4)\n",
    "    dense_2_units = hp.Int('dense_2_units', min_value=16, max_value=72, step=4)\n",
    "    dense_3_units = hp.Int('dense_3_units', min_value=16, max_value=72, step=4)\n",
    "    dense_4_units = hp.Int('dense_4_units', min_value=16, max_value=72, step=4)\n",
    "    dense_5_units = hp.Int('dense_5_units', min_value=16, max_value=72, step=4)\n",
    "    dense_6_units = hp.Int('dense_6_units', min_value=16, max_value=72, step=4)\n",
    "    \n",
    "    self.encoder = Sequential([\n",
    "      Dense(dense_1_units, activation='relu'),\n",
    "      Dropout(0.1),\n",
    "      Dense(dense_2_units, activation='relu'),\n",
    "      Dropout(0.1),\n",
    "      Dense(dense_3_units, activation='relu'),\n",
    "      Dropout(0.1),\n",
    "      Dense(code_size, activation='relu')\n",
    "    ])\n",
    "    self.decoder = Sequential([\n",
    "      Dense(dense_4_units, activation='relu'),\n",
    "      Dropout(0.1),\n",
    "      Dense(dense_5_units, activation='relu'),\n",
    "      Dropout(0.1),\n",
    "      Dense(dense_6_units, activation='relu'),\n",
    "      Dropout(0.1),\n",
    "      Dense(output_units, activation='sigmoid')\n",
    "    ])\n",
    "  \n",
    "  def call(self, inputs):\n",
    "    encoded = self.encoder(inputs)\n",
    "    decoded = self.decoder(encoded)\n",
    "    return decoded\n",
    "\n",
    "\n",
    "def build_model(hp):\n",
    "  model = AutoEncoderTuner(hp, 25)\n",
    "  hp_learning_rate = hp.Choice('learning_rate', values=[1e-2, 1e-3, 1e-4])\n",
    "  model.compile(\n",
    "      loss='msle',\n",
    "      optimizer=Adam(learning_rate=hp_learning_rate),\n",
    "  )\n",
    "  return model"
   ]
  },
  {
   "cell_type": "code",
   "execution_count": 110,
   "metadata": {
    "colab": {
     "base_uri": "https://localhost:8080/"
    },
    "id": "_6X0KEcX6NAS",
    "outputId": "8bf5e44c-ed99-40b3-a051-68aad31fce9e"
   },
   "outputs": [
    {
     "name": "stdout",
     "output_type": "stream",
     "text": [
      "Trial 30 Complete [00h 01m 01s]\n",
      "val_loss: 0.005093834828585386\n",
      "\n",
      "Best val_loss So Far: 0.0036115082912147045\n",
      "Total elapsed time: 00h 11m 50s\n",
      "INFO:tensorflow:Oracle triggered exit\n"
     ]
    }
   ],
   "source": [
    "tuner = kt.Hyperband(\n",
    "    build_model,\n",
    "    objective='val_loss',\n",
    "    max_epochs=20,\n",
    "    factor=3,\n",
    "    directory='autoencoder',\n",
    "    #project_name='tuning_autoencoder6'\n",
    ")\n",
    "\n",
    "tuner.search(\n",
    "    x_train_scaled, \n",
    "    x_train_scaled, \n",
    "    epochs=20, \n",
    "    batch_size=512,\n",
    "    validation_data=(x_test_scaled, x_test_scaled)\n",
    ")"
   ]
  },
  {
   "cell_type": "code",
   "execution_count": 111,
   "metadata": {
    "colab": {
     "base_uri": "https://localhost:8080/"
    },
    "id": "_tiB8zhcF0QV",
    "outputId": "4e5b74d2-fff8-4502-f60b-d15f388330ce"
   },
   "outputs": [
    {
     "name": "stdout",
     "output_type": "stream",
     "text": [
      "dense_1_units: 64\n",
      "dense_2_units: 44\n",
      "dense_3_units: 56\n",
      "dense_4_units: 72\n",
      "dense_5_units: 64\n",
      "dense_6_units: 32\n",
      "learning_rate: 0.01\n"
     ]
    }
   ],
   "source": [
    "hparams = [f'dense_{i}_units' for i in range(1,7)] + ['learning_rate']\n",
    "best_hyperparams = tuner.get_best_hyperparameters()\n",
    "for hps in hparams:\n",
    "  print(f\"{hps}: {best_hyperparams[0][hps]}\")"
   ]
  },
  {
   "cell_type": "code",
   "execution_count": 112,
   "metadata": {
    "colab": {
     "base_uri": "https://localhost:8080/"
    },
    "id": "MUvDIqvVEuNk",
    "outputId": "0c8f1a84-c746-4f3d-fd12-a3dade4e5459"
   },
   "outputs": [
    {
     "name": "stdout",
     "output_type": "stream",
     "text": [
      "Epoch 1/20\n",
      "86/86 [==============================] - 3s 32ms/step - loss: 0.0022 - val_loss: 0.0034\n",
      "Epoch 2/20\n",
      "86/86 [==============================] - 3s 33ms/step - loss: 0.0021 - val_loss: 0.0033\n",
      "Epoch 3/20\n",
      "86/86 [==============================] - 3s 31ms/step - loss: 0.0021 - val_loss: 0.0034\n",
      "Epoch 4/20\n",
      "86/86 [==============================] - 3s 34ms/step - loss: 0.0020 - val_loss: 0.0033\n",
      "Epoch 5/20\n",
      "86/86 [==============================] - 3s 31ms/step - loss: 0.0020 - val_loss: 0.0033\n",
      "Epoch 6/20\n",
      "86/86 [==============================] - 3s 32ms/step - loss: 0.0020 - val_loss: 0.0033\n",
      "Epoch 7/20\n",
      "86/86 [==============================] - 3s 35ms/step - loss: 0.0019 - val_loss: 0.0032\n",
      "Epoch 8/20\n",
      "86/86 [==============================] - 3s 34ms/step - loss: 0.0020 - val_loss: 0.0034\n",
      "Epoch 9/20\n",
      "86/86 [==============================] - 3s 36ms/step - loss: 0.0020 - val_loss: 0.0032\n",
      "Epoch 10/20\n",
      "86/86 [==============================] - 3s 35ms/step - loss: 0.0019 - val_loss: 0.0032\n",
      "Epoch 11/20\n",
      "86/86 [==============================] - 3s 37ms/step - loss: 0.0019 - val_loss: 0.0031\n",
      "Epoch 12/20\n",
      "86/86 [==============================] - 3s 36ms/step - loss: 0.0019 - val_loss: 0.0031\n",
      "Epoch 13/20\n",
      "86/86 [==============================] - 3s 36ms/step - loss: 0.0019 - val_loss: 0.0032\n",
      "Epoch 14/20\n",
      "86/86 [==============================] - 3s 35ms/step - loss: 0.0019 - val_loss: 0.0032\n",
      "Epoch 15/20\n",
      "86/86 [==============================] - 3s 36ms/step - loss: 0.0019 - val_loss: 0.0031\n",
      "Epoch 16/20\n",
      "86/86 [==============================] - 3s 31ms/step - loss: 0.0018 - val_loss: 0.0031\n",
      "Epoch 17/20\n",
      "86/86 [==============================] - 3s 36ms/step - loss: 0.0019 - val_loss: 0.0031\n",
      "Epoch 18/20\n",
      "86/86 [==============================] - 3s 34ms/step - loss: 0.0018 - val_loss: 0.0030\n",
      "Epoch 19/20\n",
      "86/86 [==============================] - 3s 37ms/step - loss: 0.0019 - val_loss: 0.0030\n",
      "Epoch 20/20\n",
      "86/86 [==============================] - 3s 36ms/step - loss: 0.0018 - val_loss: 0.0030\n"
     ]
    },
    {
     "data": {
      "text/plain": [
       "<keras.callbacks.History at 0x7f6b5c515550>"
      ]
     },
     "execution_count": 112,
     "metadata": {},
     "output_type": "execute_result"
    }
   ],
   "source": [
    "best_model = tuner.get_best_models()[0]\n",
    "best_model.compile(loss='msle', optimizer=Adam(0.001))\n",
    "\n",
    "best_model.fit(\n",
    "    x_train_scaled,\n",
    "    x_train_scaled,\n",
    "    epochs=20,\n",
    "    batch_size=512,\n",
    "    validation_data=(x_test_scaled, x_test_scaled)\n",
    ")"
   ]
  },
  {
   "cell_type": "code",
   "execution_count": 114,
   "metadata": {
    "colab": {
     "base_uri": "https://localhost:8080/"
    },
    "id": "H0DvGEOkHdsn",
    "outputId": "534ee8fa-d12d-49e4-b95e-0b5dbc24760d"
   },
   "outputs": [],
   "source": [
    "threshold_ = find_threshold(best_model, x_train_scaled)\n",
    "preds_ = get_predictions(best_model, x_test_scaled, threshold_)\n",
    "# accuracy_score(preds_, y_test) "
   ]
  },
  {
   "cell_type": "code",
   "execution_count": null,
   "metadata": {},
   "outputs": [],
   "source": []
  }
 ],
 "metadata": {
  "colab": {
   "name": "Anomaly Detection Using Autoencoders.ipynb",
   "provenance": [],
   "toc_visible": true
  },
  "kernelspec": {
   "display_name": "Python 3 (ipykernel)",
   "language": "python",
   "name": "python3"
  },
  "language_info": {
   "codemirror_mode": {
    "name": "ipython",
    "version": 3
   },
   "file_extension": ".py",
   "mimetype": "text/x-python",
   "name": "python",
   "nbconvert_exporter": "python",
   "pygments_lexer": "ipython3",
   "version": "3.9.7"
  }
 },
 "nbformat": 4,
 "nbformat_minor": 4
}
